{
 "cells": [
  {
   "cell_type": "code",
   "execution_count": 1,
   "metadata": {},
   "outputs": [
    {
     "name": "stdout",
     "output_type": "stream",
     "text": [
      "('nelson', 'advik', 'mom', 'dad')\n",
      "('nelson', 'advik', 'mom')\n",
      "\n",
      "('nelson', 'advik', 'mom', 'dad')\n"
     ]
    },
    {
     "ename": "TypeError",
     "evalue": "'tuple' object does not support item assignment",
     "output_type": "error",
     "traceback": [
      "\u001b[1;31m---------------------------------------------------------------------------\u001b[0m",
      "\u001b[1;31mTypeError\u001b[0m                                 Traceback (most recent call last)",
      "\u001b[1;32m<ipython-input-1-0367a36421c0>\u001b[0m in \u001b[0;36m<module>\u001b[1;34m\u001b[0m\n\u001b[0;32m     16\u001b[0m \u001b[0mprint\u001b[0m\u001b[1;33m(\u001b[0m\u001b[0mString1\u001b[0m\u001b[1;33m[\u001b[0m\u001b[1;36m0\u001b[0m\u001b[1;33m:\u001b[0m\u001b[1;36m15\u001b[0m\u001b[1;33m]\u001b[0m\u001b[1;33m)\u001b[0m\u001b[1;33m\u001b[0m\u001b[1;33m\u001b[0m\u001b[0m\n\u001b[0;32m     17\u001b[0m \u001b[1;33m\u001b[0m\u001b[0m\n\u001b[1;32m---> 18\u001b[1;33m \u001b[0mString1\u001b[0m\u001b[1;33m[\u001b[0m\u001b[1;36m1\u001b[0m\u001b[1;33m]\u001b[0m \u001b[1;33m=\u001b[0m \u001b[1;34m'varsha'\u001b[0m\u001b[1;33m\u001b[0m\u001b[1;33m\u001b[0m\u001b[0m\n\u001b[0m",
      "\u001b[1;31mTypeError\u001b[0m: 'tuple' object does not support item assignment"
     ]
    }
   ],
   "source": [
    "#String_data_type\n",
    "String1= ('nelson','advik', 'mom', 'dad')\n",
    "print(String1)\n",
    "\n",
    "max(String1)\n",
    "min(String1)\n",
    "\n",
    "String1[1]\n",
    "String1[0]\n",
    "String1[3]\n",
    "\n",
    "print(String1[:3])\n",
    "\n",
    "print()\n",
    "\n",
    "print(String1[0:15])\n",
    "\n",
    "String1[1] = 'varsha'"
   ]
  },
  {
   "cell_type": "code",
   "execution_count": 2,
   "metadata": {},
   "outputs": [
    {
     "data": {
      "text/plain": [
       "'++C++dureka'"
      ]
     },
     "execution_count": 2,
     "metadata": {},
     "output_type": "execute_result"
    }
   ],
   "source": [
    "string= \"edureka\"\n",
    "\n",
    "string.replace(\"e\", \"++C++\",1)\n"
   ]
  },
  {
   "cell_type": "code",
   "execution_count": 4,
   "metadata": {},
   "outputs": [
    {
     "name": "stdout",
     "output_type": "stream",
     "text": [
      "(1, 4, 5, 852)\n"
     ]
    },
    {
     "ename": "TypeError",
     "evalue": "'tuple' object is not callable",
     "output_type": "error",
     "traceback": [
      "\u001b[1;31m---------------------------------------------------------------------------\u001b[0m",
      "\u001b[1;31mTypeError\u001b[0m                                 Traceback (most recent call last)",
      "\u001b[1;32m<ipython-input-4-c415c1d264b1>\u001b[0m in \u001b[0;36m<module>\u001b[1;34m\u001b[0m\n\u001b[0;32m     10\u001b[0m \u001b[0mmin\u001b[0m\u001b[1;33m(\u001b[0m\u001b[0mTup1\u001b[0m\u001b[1;33m)\u001b[0m\u001b[1;33m\u001b[0m\u001b[1;33m\u001b[0m\u001b[0m\n\u001b[0;32m     11\u001b[0m \u001b[1;33m\u001b[0m\u001b[0m\n\u001b[1;32m---> 12\u001b[1;33m \u001b[0mTup1\u001b[0m\u001b[1;33m(\u001b[0m\u001b[1;33m)\u001b[0m\u001b[1;33m\u001b[0m\u001b[1;33m\u001b[0m\u001b[0m\n\u001b[0m\u001b[0;32m     13\u001b[0m \u001b[1;33m\u001b[0m\u001b[0m\n\u001b[0;32m     14\u001b[0m \u001b[1;33m\u001b[0m\u001b[0m\n",
      "\u001b[1;31mTypeError\u001b[0m: 'tuple' object is not callable"
     ]
    }
   ],
   "source": [
    "Tup1= (1, 4 , 5, 852)\n",
    "\n",
    "print(Tup1)\n",
    "\n",
    "len(Tup1)\n",
    "\n",
    "max(Tup1)\n",
    "\n",
    "\n",
    "min(Tup1)\n",
    "\n",
    "Tup1()\n",
    "\n",
    "\n",
    "\n",
    "#membership\n",
    "852 in Tup1\n",
    "\n",
    "852 in (1,4,5, 852)\n",
    "\n",
    "Tup2= (2, 8, 77, 85, 586)\n",
    "\n",
    "#conacatenation\n",
    "Tup1 + Tup2\n",
    "\n",
    "Tup1 - Tup2\n",
    "\n",
    "tup1 = (\"a\", \"b\", \"c\")\n",
    "tup2 = (\"d\",\"e\", \"f\")\n",
    "\n",
    "#membership\n",
    "\n",
    "\"g\" in tup1\n",
    "\n",
    "\"f\" in tup2\n",
    "\n",
    "#concatenation\n",
    "tup1 + tup2\n",
    "\n",
    "#assignment\n",
    "#tup2[2] = 2\n",
    "\n",
    "Tup3 = Tup1 + Tup2\n",
    "print(Tup3)\n",
    "\n",
    "\n",
    "tup3 = tup1 + tup2\n",
    "print(tup3)\n",
    "\n",
    "tup4 = tup1 + Tup1\n",
    "print(tup4)\n",
    "\n",
    "del(tup4)\n",
    "\n",
    "#print(tup4)"
   ]
  },
  {
   "cell_type": "code",
   "execution_count": 15,
   "metadata": {},
   "outputs": [
    {
     "ename": "TypeError",
     "evalue": "'tuple' object does not support item assignment",
     "output_type": "error",
     "traceback": [
      "\u001b[1;31m---------------------------------------------------------------------------\u001b[0m",
      "\u001b[1;31mTypeError\u001b[0m                                 Traceback (most recent call last)",
      "\u001b[1;32m<ipython-input-15-686bee1f93c6>\u001b[0m in \u001b[0;36m<module>\u001b[1;34m\u001b[0m\n\u001b[0;32m      1\u001b[0m \u001b[0mtup\u001b[0m\u001b[1;33m=\u001b[0m\u001b[1;33m(\u001b[0m\u001b[1;36m1\u001b[0m\u001b[1;33m,\u001b[0m\u001b[1;36m5\u001b[0m\u001b[1;33m,\u001b[0m\u001b[1;36m6\u001b[0m\u001b[1;33m,\u001b[0m\u001b[1;36m8\u001b[0m\u001b[1;33m,\u001b[0m\u001b[1;36m9\u001b[0m\u001b[1;33m,\u001b[0m\u001b[1;36m10\u001b[0m\u001b[1;33m)\u001b[0m\u001b[1;33m\u001b[0m\u001b[1;33m\u001b[0m\u001b[0m\n\u001b[0;32m      2\u001b[0m \u001b[0mtup\u001b[0m\u001b[1;33m[\u001b[0m\u001b[1;36m3\u001b[0m\u001b[1;33m]\u001b[0m\u001b[1;33m\u001b[0m\u001b[1;33m\u001b[0m\u001b[0m\n\u001b[1;32m----> 3\u001b[1;33m \u001b[0mtup\u001b[0m\u001b[1;33m[\u001b[0m\u001b[1;36m3\u001b[0m\u001b[1;33m]\u001b[0m\u001b[1;33m=\u001b[0m \u001b[1;36m45\u001b[0m\u001b[1;33m\u001b[0m\u001b[1;33m\u001b[0m\u001b[0m\n\u001b[0m",
      "\u001b[1;31mTypeError\u001b[0m: 'tuple' object does not support item assignment"
     ]
    }
   ],
   "source": [
    "tup=(1,5,6,8,9,10)\n",
    "tup[3]\n",
    "tup[3]= 45"
   ]
  },
  {
   "cell_type": "code",
   "execution_count": 3,
   "metadata": {},
   "outputs": [
    {
     "name": "stdout",
     "output_type": "stream",
     "text": [
      "[5, 8, 75, 'Advik,', 'Kanishka']\n",
      "Kanishka\n",
      "\n",
      "Kanishka\n",
      "[65, 8, 9, 74, 56, 62, 76, 89, 1054]\n",
      "[5, 8, 75, 'Advik,', 'Kanishka', 'm', 'o', 'm']\n",
      "[5, 8, 75, 'Advik,', 'Kanishka', 'm', 'o', 'm', 'varsha']\n",
      "[8, 75, 'Advik,', 'Kanishka', 'm', 'o', 'm', 'varsha']\n",
      "[90, 8, 75, 'Advik,', 'Kanishka', 'm', 'o', 'm', 'varsha']\n"
     ]
    }
   ],
   "source": [
    "#List_data_type\n",
    "List1= [5, 6, 8, 75, 'Advik,', 'Kanishka']\n",
    "\n",
    "#print(List1)\n",
    "len(List1)\n",
    "List2=[5, 8, 9, 74, 56, 62, 76, 89, 1054]\n",
    "\n",
    "max(List2)\n",
    "len(List2)\n",
    "\n",
    "List1.remove(6)\n",
    "\n",
    "print(List1)\n",
    "\n",
    "print(List1[-1])\n",
    "\n",
    "print()\n",
    "\n",
    "print(List1[4])\n",
    "\n",
    "List2[0]= 65\n",
    "\n",
    "print(List2)\n",
    "\n",
    "del(List2)\n",
    "\n",
    "#print(List2)\n",
    "\n",
    "List1.index('Kanishka')\n",
    "\n",
    "List1.extend('mom')\n",
    "\n",
    "print(List1)\n",
    "\n",
    "List1.append(\"varsha\")\n",
    "\n",
    "print(List1)\n",
    "\n",
    "List1.remove(5)\n",
    "print(List1)\n",
    "\n",
    "List1.insert(0, 90)\n",
    "print(List1)"
   ]
  },
  {
   "cell_type": "code",
   "execution_count": null,
   "metadata": {},
   "outputs": [],
   "source": []
  }
 ],
 "metadata": {
  "kernelspec": {
   "display_name": "Python 3",
   "language": "python",
   "name": "python3"
  },
  "language_info": {
   "codemirror_mode": {
    "name": "ipython",
    "version": 3
   },
   "file_extension": ".py",
   "mimetype": "text/x-python",
   "name": "python",
   "nbconvert_exporter": "python",
   "pygments_lexer": "ipython3",
   "version": "3.7.4"
  }
 },
 "nbformat": 4,
 "nbformat_minor": 2
}
